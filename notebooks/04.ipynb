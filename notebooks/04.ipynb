{
  "cells": [
    {
      "cell_type": "markdown",
      "source": [
        "# 4 データ構造"
      ],
      "metadata": {
        "id": "6GJNFxhGct1n"
      },
      "id": "6GJNFxhGct1n"
    },
    {
      "cell_type": "markdown",
      "source": [
        "\n",
        "教科書では，ライブラリを使わずに解決した後で，4.3節でライブラリを使って解決している。\n",
        "\n",
        "ここでは，まずライブラリを使って解決し，その後でライブラリを使わずにデータ構造を実装して解決する。"
      ],
      "metadata": {
        "id": "O0xiO1pdct1r"
      },
      "id": "O0xiO1pdct1r"
    },
    {
      "cell_type": "markdown",
      "source": [
        "## 4.1 データ構造とは：問題にチャレンジする前に"
      ],
      "metadata": {
        "id": "MleSFKS7ct1t"
      },
      "id": "MleSFKS7ct1t"
    },
    {
      "cell_type": "markdown",
      "source": [
        "データをどのようにコンピュータの中で管理するか\n",
        "\n",
        "大事なこと....基本的、データを一列に並べる。つまり、これは配列リスト。\n",
        "012345....\n",
        "メリット↑一列に並べることのメリットとしてランダムアクセス(好きなところのデータを番号指定(O1)で出力できる。)\n",
        "\n",
        "デメリット....途中でデータの挿入があると時間がかかる。\n"
      ],
      "metadata": {
        "id": "0lsZRUECct1t"
      },
      "id": "0lsZRUECct1t"
    },
    {
      "cell_type": "markdown",
      "source": [
        "## 4.2 スタック"
      ],
      "metadata": {
        "id": "qWaKM9rhct1u"
      },
      "id": "qWaKM9rhct1u"
    },
    {
      "cell_type": "markdown",
      "source": [
        "\n",
        "アルゴリズム図鑑，『独学プログラマー』の第21章\n",
        "\n",
        "後入れ先出し（Last In First Out，LIFO）のデータ構造である。\n",
        "\n",
        "問題：[A51](https://atcoder.jp/contests/tessoku-book/tasks/tessoku_book_ay) (Stack)\n",
        "\n",
        "入力データを作る。"
      ],
      "metadata": {
        "id": "DcgRCq97ct1u"
      },
      "id": "DcgRCq97ct1u"
    },
    {
      "cell_type": "code",
      "execution_count": 6,
      "metadata": {
        "id": "6vhM2WGCct1u",
        "outputId": "9f17e6ee-535a-4ca0-b9bb-e8d49426d6e2",
        "colab": {
          "base_uri": "https://localhost:8080/"
        }
      },
      "outputs": [
        {
          "output_type": "stream",
          "name": "stdout",
          "text": [
            "Overwriting input.dat\n"
          ]
        }
      ],
      "source": [
        "%%writefile input.dat\n",
        "5\n",
        "1 futuremap\n",
        "1 howtospeak\n",
        "2\n",
        "3\n",
        "2"
      ],
      "id": "6vhM2WGCct1u"
    },
    {
      "cell_type": "markdown",
      "source": [
        "出力データを作る。"
      ],
      "metadata": {
        "id": "r_HjNcYPct1w"
      },
      "id": "r_HjNcYPct1w"
    },
    {
      "cell_type": "code",
      "execution_count": 7,
      "metadata": {
        "id": "vR66Dy0cct1w",
        "outputId": "fa62761e-578b-4e4d-dc79-64aae66c1751",
        "colab": {
          "base_uri": "https://localhost:8080/"
        }
      },
      "outputs": [
        {
          "output_type": "stream",
          "name": "stdout",
          "text": [
            "Overwriting answer.dat\n"
          ]
        }
      ],
      "source": [
        "%%writefile answer.dat\n",
        "howtospeak\n",
        "futuremap"
      ],
      "id": "vR66Dy0cct1w"
    },
    {
      "cell_type": "markdown",
      "source": [
        "### ライブラリを使う場合"
      ],
      "metadata": {
        "id": "CtGrC0ojct1x"
      },
      "id": "CtGrC0ojct1x"
    },
    {
      "cell_type": "markdown",
      "source": [
        "\n",
        "`collections.deque`を使う。次のようなメソッドがある。\n",
        "\n",
        "| 一般的な呼び方 | `A = deque()` | メモ                   |\n",
        "|----------------|---------------|------------------------|\n",
        "| `push(x)`      | `A.append(x)` | 要素の追加             |\n",
        "| `pop()`        | `A.pop()`     | 最後尾要素の削除と取得 |\n",
        "| `top()`        | `A[-1]`       | 最後尾要素の取得       |\n",
        "\n",
        "コードを書く。"
      ],
      "metadata": {
        "id": "E6jQhgtsct1x"
      },
      "id": "E6jQhgtsct1x"
    },
    {
      "cell_type": "code",
      "source": [
        "from collections import deque\n",
        "stack = deque() #新しいスタックを作る\n",
        "\n",
        "stack.append(\"futurework\") #push\n",
        "stack.append(\"howtospeak\") #push\n",
        "print(stack[-1])           #topを表示\n",
        "stack.pop()                #pop\n",
        "print(stack[-1])           #topを表示"
      ],
      "metadata": {
        "id": "SL_fDjtVoM1b",
        "outputId": "0e0dc4a4-7f9d-4215-8314-ebf06d7ac636",
        "colab": {
          "base_uri": "https://localhost:8080/"
        }
      },
      "id": "SL_fDjtVoM1b",
      "execution_count": 11,
      "outputs": [
        {
          "output_type": "stream",
          "name": "stdout",
          "text": [
            "howtospeak\n",
            "futurework\n"
          ]
        }
      ]
    },
    {
      "cell_type": "code",
      "source": [
        "X = \"1 futurework\"\n",
        "tmp = X.split()\n",
        "print(tmp)\n",
        "print(tmp[0])\n",
        "print(tmp[1])"
      ],
      "metadata": {
        "id": "uJiCRrXHpzOA",
        "outputId": "f5a5ae35-09a8-40dc-d04e-083b3d8fd61f",
        "colab": {
          "base_uri": "https://localhost:8080/"
        }
      },
      "id": "uJiCRrXHpzOA",
      "execution_count": 12,
      "outputs": [
        {
          "output_type": "stream",
          "name": "stdout",
          "text": [
            "['1', 'futurework']\n",
            "1\n",
            "futurework\n"
          ]
        }
      ]
    },
    {
      "cell_type": "code",
      "execution_count": 15,
      "metadata": {
        "id": "m32gWTa8ct1x",
        "outputId": "c7d466f5-f7e7-46d0-dd4a-65b8dce48c0e",
        "colab": {
          "base_uri": "https://localhost:8080/"
        }
      },
      "outputs": [
        {
          "output_type": "stream",
          "name": "stdout",
          "text": [
            "Overwriting test.py\n"
          ]
        }
      ],
      "source": [
        "%%writefile test.py\n",
        "n = int(input())\n",
        "\n",
        "from collections import deque\n",
        "stack = deque() #新しいスタックを作る\n",
        "\n",
        "for _ in range(n):\n",
        " tmp = input().split() # 入力をスペースで分割\n",
        " if tmp[0] == \"1\":stack.append(tmp[1])\n",
        " elif tmp[0] == \"2\":print(stack[-1])\n",
        " elif tmp[0] == \"3\":stack.pop() #else: stack.popでよい"
      ],
      "id": "m32gWTa8ct1x"
    },
    {
      "cell_type": "markdown",
      "source": [
        "実行する。"
      ],
      "metadata": {
        "id": "BkJ2_6IRct1y"
      },
      "id": "BkJ2_6IRct1y"
    },
    {
      "cell_type": "code",
      "execution_count": 16,
      "metadata": {
        "id": "gIqmJFvjct1y",
        "outputId": "18c4d5b1-ee67-4908-f6f9-dec12a438053",
        "colab": {
          "base_uri": "https://localhost:8080/"
        }
      },
      "outputs": [
        {
          "output_type": "stream",
          "name": "stdout",
          "text": [
            "howtospeak\n",
            "futuremap\n"
          ]
        }
      ],
      "source": [
        "!python3 test.py < input.dat"
      ],
      "id": "gIqmJFvjct1y"
    },
    {
      "cell_type": "markdown",
      "source": [
        "出力例と比較する。"
      ],
      "metadata": {
        "id": "1r4vobn9ct1y"
      },
      "id": "1r4vobn9ct1y"
    },
    {
      "cell_type": "code",
      "execution_count": 5,
      "metadata": {
        "id": "BeFVYS0jct1y",
        "outputId": "69329e88-da26-4e6f-82e8-3c63e19bd820",
        "colab": {
          "base_uri": "https://localhost:8080/"
        }
      },
      "outputs": [
        {
          "output_type": "stream",
          "name": "stdout",
          "text": [
            "0a1,2\n",
            "> howtospeak\n",
            "> futuremap\n"
          ]
        }
      ],
      "source": [
        "!python3 test.py < input.dat > output.dat\n",
        "!diff output.dat answer.dat"
      ],
      "id": "BeFVYS0jct1y"
    },
    {
      "cell_type": "markdown",
      "source": [
        "問題がなければ提出する。"
      ],
      "metadata": {
        "id": "Ivhkmvwxct1y"
      },
      "id": "Ivhkmvwxct1y"
    },
    {
      "cell_type": "markdown",
      "source": [
        "### ライブラリを使わない場合"
      ],
      "metadata": {
        "id": "xeNmThnOct1z"
      },
      "id": "xeNmThnOct1z"
    },
    {
      "cell_type": "markdown",
      "source": [
        "\n",
        "教科書p.86「ポイント」を意識して，クラス`Stack`を実装する。ライブラリを使う場合のコードへの変更が最小限になるようにしよう。`stack = deque()`としていたなら，次の変更が必要だろう。\n",
        "\n",
        "-   `Stack`の定義を追加する。\n",
        "-   `stack = deque()`を`stack = Stack()`に変える。\n",
        "-   `stack[-1]`を`stack.top()`に変える。\n",
        "\n",
        "> PythonでクラスStackを作る。データはリストで管理する。公開メソッドはappend，pop，topだけ。topは最後尾要素の取得（削除しない）\n",
        "\n",
        "生成されるコードの例を示す。"
      ],
      "metadata": {
        "id": "v0Z0oQ1Fct1z"
      },
      "id": "v0Z0oQ1Fct1z"
    },
    {
      "cell_type": "code",
      "execution_count": 17,
      "metadata": {
        "id": "y3_dMUeMct1z",
        "outputId": "5d873cc6-c61c-44be-ec0f-c2c4636d2ccf",
        "colab": {
          "base_uri": "https://localhost:8080/"
        }
      },
      "outputs": [
        {
          "output_type": "stream",
          "name": "stdout",
          "text": [
            "Writing Stack.py\n"
          ]
        }
      ],
      "source": [
        "%%writefile Stack.py\n",
        "class Stack:\n",
        "  def __init__(self):\n",
        "    self._data = []\n",
        "\n",
        "  def append(self, value):\n",
        "    self._data.append(value)\n",
        "\n",
        "  def pop(self):\n",
        "    return self._data.pop()\n",
        "\n",
        "  def top(self):\n",
        "    return self._data[-1]\n",
        "\n",
        "n = int(input())\n",
        "\n",
        "stack = Stack() #新しいスタックを作る\n",
        "\n",
        "for _ in range(n):\n",
        "  tmp = input().split() #入力をスペースで分離\n",
        "  if tmp[0] == \"1\":stack.append(tmp[1])\n",
        "  elif tmp[0] == \"2\":print(stack.top())\n",
        "  elif tmp[0] == \"3\":stack.pop() #else: stack.popでよい\n"
      ],
      "id": "y3_dMUeMct1z"
    },
    {
      "cell_type": "markdown",
      "source": [
        "ここでもう一度提出する。\n",
        "\n",
        "♠次の問題も，二つの方法（ライブラリを使う方法と使わない方法）で解いてみよう。\n",
        "\n",
        "問題：[ALDS1_3_A](https://onlinejudge.u-aizu.ac.jp/courses/lesson/1/ALDS1/3/ALDS1_3_A) (Stack)\n",
        "\n",
        "参考：[電気通信大学の2025年度入試問題から，大問3 - 数式を処理するプログラムを作る](https://note.com/ipsj/n/n4aed36c58756)"
      ],
      "metadata": {
        "id": "yMgQ3WeYct1z"
      },
      "id": "yMgQ3WeYct1z"
    },
    {
      "cell_type": "markdown",
      "source": [
        "## 4.3 キュー"
      ],
      "metadata": {
        "id": "JSyn30F5ct10"
      },
      "id": "JSyn30F5ct10"
    },
    {
      "cell_type": "markdown",
      "source": [
        "\n",
        "アルゴリズム図鑑，『独学プログラマー』の第21章\n",
        "\n",
        "先入れ先出し（First In First Out，FIFO）のデータ構造である。\n",
        "\n",
        "問題：[A52](https://atcoder.jp/contests/tessoku-book/tasks/tessoku_book_az) (Queue)\n",
        "\n",
        "入力データを作る。"
      ],
      "metadata": {
        "id": "cTtlirNsct10"
      },
      "id": "cTtlirNsct10"
    },
    {
      "cell_type": "code",
      "execution_count": null,
      "metadata": {
        "id": "91HzoOUVct10"
      },
      "outputs": [],
      "source": [
        "%%writefile input.dat\n",
        "ここにデータを貼り付ける。"
      ],
      "id": "91HzoOUVct10"
    },
    {
      "cell_type": "markdown",
      "source": [
        "出力データを作る。"
      ],
      "metadata": {
        "id": "NEEpZRt9ct10"
      },
      "id": "NEEpZRt9ct10"
    },
    {
      "cell_type": "code",
      "execution_count": null,
      "metadata": {
        "id": "O_L9qVVmct10"
      },
      "outputs": [],
      "source": [
        "%%writefile answer.dat\n",
        "ここにデータを貼り付ける。"
      ],
      "id": "O_L9qVVmct10"
    },
    {
      "cell_type": "markdown",
      "source": [
        "### ライブラリを使う場合"
      ],
      "metadata": {
        "id": "uEudWZ_Jct10"
      },
      "id": "uEudWZ_Jct10"
    },
    {
      "cell_type": "markdown",
      "source": [
        "\n",
        "`collections.deque`を使う。次のようなメソッドがある。\n",
        "\n",
        "| 一般的な呼び方 | `A = deque()` | メモ                            |\n",
        "|----------------|---------------|---------------------------------|\n",
        "| `isEmpty()`    | `A`           | 空かどうかを`if A:`で判定する。 |\n",
        "| `enqueue(x)`   | `A.append(x)` | 先頭要素の追加                  |\n",
        "| `dequeue()`    | `A.popleft()` | 先頭要素の削除と取得            |\n",
        "| `front()`      | `A[0]`        | 先頭要素の取得                  |\n",
        "\n",
        "コードを書く。"
      ],
      "metadata": {
        "id": "L5Wd45ORct11"
      },
      "id": "L5Wd45ORct11"
    },
    {
      "cell_type": "code",
      "execution_count": 18,
      "metadata": {
        "id": "1_pRfBg5ct11",
        "outputId": "b617f88c-23d3-4b75-8887-9004cff3d701",
        "colab": {
          "base_uri": "https://localhost:8080/"
        }
      },
      "outputs": [
        {
          "output_type": "stream",
          "name": "stdout",
          "text": [
            "Overwriting test.py\n"
          ]
        }
      ],
      "source": [
        "%%writefile test.py\n",
        "from collections import deque\n",
        "queue = deque() #新しいキューを作る\n",
        "\n",
        "n = int(input())\n",
        "\n",
        "for _ in range(n):\n",
        "  tmp = input().split()\n",
        "  if tmp[0] == \"1\":queue.append(tmp[1]) #enqueue\n",
        "  elif tmp[0] == \"2\":print(queue[0]) # front\n",
        "  elif tmp[0] == \"3\":queue.popleft()  # dequeue"
      ],
      "id": "1_pRfBg5ct11"
    },
    {
      "cell_type": "markdown",
      "source": [
        "実行する。"
      ],
      "metadata": {
        "id": "gAc8i3-9ct11"
      },
      "id": "gAc8i3-9ct11"
    },
    {
      "cell_type": "code",
      "execution_count": 19,
      "metadata": {
        "id": "KhR1OL12ct11",
        "outputId": "3a862832-3704-4c11-9c5f-6b219a22143c",
        "colab": {
          "base_uri": "https://localhost:8080/"
        }
      },
      "outputs": [
        {
          "output_type": "stream",
          "name": "stdout",
          "text": [
            "futuremap\n",
            "howtospeak\n"
          ]
        }
      ],
      "source": [
        "!python3 test.py < input.dat"
      ],
      "id": "KhR1OL12ct11"
    },
    {
      "cell_type": "markdown",
      "source": [
        "出力例と比較する。"
      ],
      "metadata": {
        "id": "c7hsyjzHct11"
      },
      "id": "c7hsyjzHct11"
    },
    {
      "cell_type": "code",
      "execution_count": null,
      "metadata": {
        "id": "B5mhgCj_ct11"
      },
      "outputs": [],
      "source": [
        "!python3 test.py < input.dat > output.dat\n",
        "!diff output.dat answer.dat"
      ],
      "id": "B5mhgCj_ct11"
    },
    {
      "cell_type": "markdown",
      "source": [
        "問題がなければ提出する。"
      ],
      "metadata": {
        "id": "tpm02cwzct12"
      },
      "id": "tpm02cwzct12"
    },
    {
      "cell_type": "markdown",
      "source": [
        "### ライブラリを使わない場合"
      ],
      "metadata": {
        "id": "k3RDxpRdct12"
      },
      "id": "k3RDxpRdct12"
    },
    {
      "cell_type": "markdown",
      "source": [
        "\n",
        "クラス`Queue`を実装する。ここでは，教科書4.3節に合わせてリングバッファを使用する。ライブラリを使う場合のコードへの変更が最小限になるようにしよう。`queue = deque()`としていたなら，次の変更が必要だろう。\n",
        "\n",
        "-   `Queue`の定義を追加する。\n",
        "-   `queue = deque()`を`queue = Queue()`に変える。\n",
        "-   `queue[0]`を`queue.front()`に変える。\n",
        "\n",
        "> PythonでクラスQueueを作る。データはリングバッファで管理する。リングバッファの実体はリストで，最大サイズは100000。公開メソッドはisEmpty, append, popleft, frontだけ。frontは先頭要素の取得（削除しない）\n",
        "\n",
        "生成されるコードを修正した例を示す。"
      ],
      "metadata": {
        "id": "ur2MZOhpct12"
      },
      "id": "ur2MZOhpct12"
    },
    {
      "cell_type": "code",
      "execution_count": null,
      "metadata": {
        "id": "KAr1X6o2ct12"
      },
      "outputs": [],
      "source": [
        "%%writefile Queue.py\n",
        "class Queue:\n",
        "  def __init__(self):\n",
        "    self.size = 100000\n",
        "    self.buffer = [None] * self.size\n",
        "    self.head = 0\n",
        "    self.tail = 0\n",
        "    self.count = 0\n",
        "\n",
        "  def isEmpty(self):\n",
        "    return self.count == 0\n",
        "\n",
        "  def append(self, value):\n",
        "    if self.count == self.size: raise OverflowError(\"Queue is full\")\n",
        "    self.buffer[self.tail] = value\n",
        "    self.tail = (self.tail + 1) % self.size\n",
        "    self.count += 1\n",
        "\n",
        "  def popleft(self):\n",
        "    if self.isEmpty(): raise IndexError(\"Queue is empty\")\n",
        "    value = self.buffer[self.head]\n",
        "    self.head = (self.head + 1) % self.size\n",
        "    self.count -= 1\n",
        "    return value\n",
        "\n",
        "  def front(self):\n",
        "    if self.isEmpty(): raise IndexError(\"Queue is empty\")\n",
        "    return self.buffer[self.head]"
      ],
      "id": "KAr1X6o2ct12"
    },
    {
      "cell_type": "markdown",
      "source": [
        "♠次の問題も，二つの方法（ライブラリを使う方法と使わない方法）で解いてみよう。\n",
        "\n",
        "問題：[ALDS1_3_B](https://onlinejudge.u-aizu.ac.jp/courses/lesson/1/ALDS1/3/ALDS1_3_B) (Queue)"
      ],
      "metadata": {
        "id": "wrl_KS46ct12"
      },
      "id": "wrl_KS46ct12"
    },
    {
      "cell_type": "markdown",
      "source": [
        "## 4.4 連結リスト"
      ],
      "metadata": {
        "id": "1cJZPFsxct12"
      },
      "id": "1cJZPFsxct12"
    },
    {
      "cell_type": "markdown",
      "source": [
        "\n",
        "データ構造でいう**リスト**は「Pythonのリスト」ではない。\n",
        "\n",
        "-   リスト\n",
        "    -   一方向リスト（singly-linked list, one-way list）　アルゴリズム図鑑\n",
        "    -   双方向リスト（doubly-linked list, two-way list）\n",
        "\n",
        "問題：[ALDS1_3_C](https://onlinejudge.u-aizu.ac.jp/courses/lesson/1/ALDS1/3/ALDS1_3_C) (Doubly Linked List)\n",
        "\n",
        "次のようにPythonのリストを使うとTLEになることを確認する。\n",
        "\n",
        "``` python\n",
        "n = int(input())\n",
        "A = []\n",
        "\n",
        "for _ in range(n):\n",
        "  tmp = input().split()\n",
        "  if tmp[0].startswith(\"insert\"): A.insert(0, int(tmp[1]))\n",
        "  elif tmp[0].startswith(\"deleteF\"): A.pop(0)\n",
        "  elif tmp[0].startswith(\"deleteL\"): A.pop()\n",
        "  else: # delete\n",
        "    try: A.remove(int(tmp[1]))\n",
        "    except ValueError: pass\n",
        "\n",
        "print(*A)\n",
        "```"
      ],
      "metadata": {
        "id": "_LSznhTWct2B"
      },
      "id": "_LSznhTWct2B"
    },
    {
      "cell_type": "markdown",
      "source": [
        "### ライブラリを使う場合"
      ],
      "metadata": {
        "id": "F6ufGUBoct2C"
      },
      "id": "F6ufGUBoct2C"
    },
    {
      "cell_type": "markdown",
      "source": [
        "\n",
        "`collections.deque`を代用する。使用するメソッドは表のとおり。\n",
        "\n",
        "| 教科書         | `A = deque()`     |\n",
        "|----------------|-------------------|\n",
        "| `insert(x)`    | `A.appendleft(x)` |\n",
        "| `deleteKey(x)` | `A.remove(x)`     |\n",
        "| `deleteFirst`  | `A.popleft()`     |\n",
        "| `deleteLast`   | `A.pop()`         |\n",
        "\n",
        "ヒント：`A.remove(x)`は，`x`が`A`に含まれない場合に`ValueError`を発生させる。ここでは，次のようにしてこれを無視する。\n",
        "\n",
        "``` python\n",
        "try: A.remove(x)\n",
        "except ValueError: pass\n",
        "```"
      ],
      "metadata": {
        "id": "gVE05G1nct2C"
      },
      "id": "gVE05G1nct2C"
    },
    {
      "cell_type": "markdown",
      "source": [
        "### ライブラリを使わない場合"
      ],
      "metadata": {
        "id": "mKaxI6exct2C"
      },
      "id": "mKaxI6exct2C"
    },
    {
      "cell_type": "markdown",
      "source": [
        "\n",
        "双方向連結リストのクラス`List`を実装する。ライブラリを使う場合のコードへの変更が最小限になるようにしよう。`A = deque()`としていたなら，次の変更が必要だろう。\n",
        "\n",
        "-   `List`の定義を追加する。\n",
        "-   `A = deque()`を`A = List()`に変える。\n",
        "-   `print(*A)`を`A.print()`に変える。\n",
        "\n",
        "> Pythonで双方向連結リストのクラスListを実装する。リストのノードはクラスNodeのインスタンスで，番兵はnilとする。公開メソッドはappendleft，remove，popleft，pop，printだけ。removeは，リストを先頭から走査して，指定した値をもつ要素で最初に見つかるものを削除する。指定した値をもつ要素が存在しない場合はValueErrorを発生させる。popleftとpopではremoveを使えないことに注意する。printはリストの全要素を空白をはさんで連結した文字列を表示する。\n",
        "\n",
        "生成されるコードを修正した例を示す。"
      ],
      "metadata": {
        "id": "6AAsy4Vvct2C"
      },
      "id": "6AAsy4Vvct2C"
    },
    {
      "cell_type": "code",
      "execution_count": null,
      "metadata": {
        "id": "g4ZpFixgct2C"
      },
      "outputs": [],
      "source": [
        "%%writefile List.py\n",
        "class Node:\n",
        "  def __init__(self, value=None):\n",
        "    self.value = value  # ノードの値\n",
        "    self.prev = None  # 前のノードへのポインタ\n",
        "    self.next = None  # 次のノードへのポインタ\n",
        "\n",
        "class List:\n",
        "  def __init__(self):\n",
        "    self.nil = Node()  # 番兵ノード（nil）\n",
        "    self.nil.prev = self.nil  # 番兵の前のノードは自分自身\n",
        "    self.nil.next = self.nil  # 番兵の次のノードは自分自身\n",
        "    self.size = 0  # リストのサイズ\n",
        "\n",
        "  def appendleft(self, value):\n",
        "    \"\"\"リストの先頭に要素を追加\"\"\"\n",
        "    new_node = Node(value)\n",
        "    new_node.next = self.nil.next\n",
        "    new_node.prev = self.nil\n",
        "    self.nil.next.prev = new_node\n",
        "    self.nil.next = new_node\n",
        "    self.size += 1\n",
        "\n",
        "  def remove(self, value):\n",
        "    \"\"\"指定した値を持つ最初のノードを削除\"\"\"\n",
        "    current = self.nil.next\n",
        "    while current != self.nil:\n",
        "      if current.value == value:\n",
        "        current.prev.next = current.next\n",
        "        current.next.prev = current.prev\n",
        "        self.size -= 1\n",
        "        return\n",
        "      current = current.next\n",
        "    raise ValueError(f\"{value} not found in list\")\n",
        "\n",
        "  def popleft(self):\n",
        "    \"\"\"リストの先頭の要素を削除して返す\"\"\"\n",
        "    if self.size == 0:\n",
        "      raise IndexError(\"pop from empty list\")\n",
        "\n",
        "    # 先頭のノードを削除\n",
        "    value = self.nil.next.value\n",
        "    self.nil.next = self.nil.next.next\n",
        "    self.nil.next.prev = self.nil\n",
        "    self.size -= 1\n",
        "\n",
        "    return value\n",
        "\n",
        "  def pop(self):\n",
        "    \"\"\"リストの末尾の要素を削除して返す\"\"\"\n",
        "    if self.size == 0:\n",
        "      raise IndexError(\"pop from empty list\")\n",
        "\n",
        "    # 末尾のノードを削除\n",
        "    value = self.nil.prev.value\n",
        "    self.nil.prev = self.nil.prev.prev\n",
        "    self.nil.prev.next = self.nil\n",
        "    self.size -= 1\n",
        "\n",
        "    return value\n",
        "\n",
        "  def print(self):\n",
        "    \"\"\"リストの全要素を空白を挟んで連結した文字列を表示\"\"\"\n",
        "    current = self.nil.next\n",
        "    values = []\n",
        "    while current != self.nil:\n",
        "      values.append(str(current.value))\n",
        "      current = current.next\n",
        "    print(\" \".join(values))"
      ],
      "id": "g4ZpFixgct2C"
    },
    {
      "cell_type": "markdown",
      "source": [
        "## 宿題"
      ],
      "metadata": {
        "id": "20WmLRCKct2D"
      },
      "id": "20WmLRCKct2D"
    },
    {
      "cell_type": "markdown",
      "source": [
        "\n",
        "以下の問題をAC（Accepted）にする。Pythonを使うこと。\n",
        "\n",
        "-   [A51](https://atcoder.jp/contests/tessoku-book/tasks/tessoku_book_ay) (Stack)\n",
        "-   ♠[ALDS1_3_A](https://onlinejudge.u-aizu.ac.jp/courses/lesson/1/ALDS1/3/ALDS1_3_A) (Stack)\n",
        "-   [A52](https://atcoder.jp/contests/tessoku-book/tasks/tessoku_book_az) (Queue)\n",
        "-   ♠[ALDS1_3_B](https://onlinejudge.u-aizu.ac.jp/courses/lesson/1/ALDS1/3/ALDS1_3_B) (Queue)\n",
        "-   [ALDS1_3_C](https://onlinejudge.u-aizu.ac.jp/courses/lesson/1/ALDS1/3/ALDS1_3_C) (Doubly Linked List)\n",
        "-   ♠[ALDS1_3_D](https://onlinejudge.u-aizu.ac.jp/courses/lesson/1/ALDS1/3/ALDS1_3_D) (Areas on the Cross-Section Diagram)\n",
        "\n",
        "以上"
      ],
      "metadata": {
        "id": "0vtdZNoAct2D"
      },
      "id": "0vtdZNoAct2D"
    }
  ],
  "nbformat": 4,
  "nbformat_minor": 5,
  "metadata": {
    "colab": {
      "provenance": [],
      "toc_visible": true
    },
    "language_info": {
      "name": "python"
    },
    "kernelspec": {
      "name": "python3",
      "display_name": "Python 3"
    }
  }
}